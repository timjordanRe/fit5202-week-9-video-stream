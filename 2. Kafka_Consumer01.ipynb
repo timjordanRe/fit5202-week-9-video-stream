{
 "cells": [
  {
   "cell_type": "code",
   "execution_count": null,
   "metadata": {},
   "outputs": [],
   "source": [
    "# import statements\n",
    "from time import sleep\n",
    "from kafka3 import KafkaConsumer\n",
    "import datetime as dt\n",
    "import matplotlib\n",
    "import matplotlib.pyplot as plt\n",
    "\n",
    "# this line is needed for the inline display of graphs in Jupyter Notebook\n",
    "%matplotlib notebook\n",
    "\n",
    "#configuration\n",
    "hostip = \"192.168.1.87\" #change me\n",
    "topic = 'Session09-Topic1'\n",
    "\n",
    "def connect_kafka_consumer():\n",
    "    _consumer = None\n",
    "    try:\n",
    "         _consumer = KafkaConsumer(topic,\n",
    "                                   consumer_timeout_ms=10000, # stop iteration if no message after 10 sec\n",
    "                                   auto_offset_reset='earliest', # comment this if you don't want to consume earliest available message\n",
    "                                   bootstrap_servers=[f'{hostip}:9092'],\n",
    "                                   api_version=(0, 10))\n",
    "    except Exception as ex:\n",
    "        print('Exception while connecting Kafka')\n",
    "        print(str(ex))\n",
    "    finally:\n",
    "        return _consumer\n",
    "\n",
    "def init_plots():\n",
    "    try:\n",
    "        width = 9.5\n",
    "        height = 6\n",
    "        fig = plt.figure(figsize=(width,height)) # create new figure\n",
    "        ax = fig.add_subplot(111) # adding the subplot axes to the given grid position\n",
    "        fig.suptitle('Real-time uniform stream data visualization') # giving figure a title\n",
    "        ax.set_xlabel('Time')\n",
    "        ax.set_ylabel('Value')\n",
    "        ax.set_ylim(0,110) \n",
    "        ax.set_yticks([0,20,40,60,80,100])\n",
    "        fig.show() # displaying the figure\n",
    "        fig.canvas.draw() # drawing on the canvas\n",
    "        return fig, ax\n",
    "    except Exception as ex:\n",
    "        print(str(ex))\n",
    "    \n",
    "def consume_messages(consumer, fig, ax):\n",
    "    try:\n",
    "        # container for x and y values\n",
    "        x, y = [], []\n",
    "        # print('Waiting for messages')\n",
    "        for message in consumer:\n",
    "            data = str(message.value.decode('utf-8')).split(', ')\n",
    "            x.append(data[0]) \n",
    "            y.append(int(data[1]))\n",
    "            # print(y)\n",
    "            # we start plotting only when we have 10 data points\n",
    "            if len(y) > 10:\n",
    "                ax.clear()\n",
    "                ax.plot(x, y)\n",
    "                ax.set_xlabel('Time')\n",
    "                ax.set_ylabel('Value')\n",
    "                ax.set_ylim(0,110) \n",
    "                ax.set_yticks([0,20,40,60,80,100])\n",
    "                fig.canvas.draw()\n",
    "                x.pop(0) # removing the item in the first position\n",
    "                y.pop(0)\n",
    "        plt.close('all')\n",
    "    except Exception as ex:\n",
    "        print(str(ex))\n",
    "    \n",
    "if __name__ == '__main__':\n",
    "    \n",
    "    consumer = connect_kafka_consumer()\n",
    "    fig, ax = init_plots()\n",
    "    consume_messages(consumer, fig, ax)    \n",
    "    \n",
    "    "
   ]
  },
  {
   "cell_type": "code",
   "execution_count": null,
   "metadata": {},
   "outputs": [],
   "source": []
  },
  {
   "cell_type": "code",
   "execution_count": null,
   "metadata": {},
   "outputs": [],
   "source": []
  }
 ],
 "metadata": {
  "kernelspec": {
   "display_name": "Python 3 (ipykernel)",
   "language": "python",
   "name": "python3"
  },
  "language_info": {
   "codemirror_mode": {
    "name": "ipython",
    "version": 3
   },
   "file_extension": ".py",
   "mimetype": "text/x-python",
   "name": "python",
   "nbconvert_exporter": "python",
   "pygments_lexer": "ipython3",
   "version": "3.8.15"
  },
  "vscode": {
   "interpreter": {
    "hash": "916dbcbb3f70747c44a77c7bcd40155683ae19c65e1c03b4aa3499c5328201f1"
   }
  }
 },
 "nbformat": 4,
 "nbformat_minor": 4
}
