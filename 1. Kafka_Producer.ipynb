{
 "cells": [
  {
   "cell_type": "markdown",
   "metadata": {},
   "source": [
    "### Kafka Producer\n",
    "Produces Current DateTime stamp with a random count continously unless stopped.\n",
    "Produces to the topic <strong>Week9-Topic</strong>"
   ]
  },
  {
   "cell_type": "code",
   "execution_count": 1,
   "metadata": {
    "colab": {},
    "colab_type": "code",
    "id": "rZkdVlxmXmVv",
    "outputId": "e45aa535-22c6-4b34-a6dc-e1f041106f5f"
   },
   "outputs": [
    {
     "name": "stdout",
     "output_type": "stream",
     "text": [
      "Publishing records..\n",
      "Message published successfully. Data: 04:59:03 , 6\n",
      "Message published successfully. Data: 04:59:04 , 54\n",
      "Message published successfully. Data: 04:59:05 , 14\n",
      "Message published successfully. Data: 04:59:06 , 22\n",
      "Message published successfully. Data: 04:59:07 , 79\n",
      "Message published successfully. Data: 04:59:08 , 26\n",
      "Message published successfully. Data: 04:59:09 , 57\n",
      "Message published successfully. Data: 04:59:10 , 75\n",
      "Message published successfully. Data: 04:59:11 , 24\n",
      "Message published successfully. Data: 04:59:12 , 70\n",
      "Message published successfully. Data: 04:59:13 , 83\n",
      "Message published successfully. Data: 04:59:14 , 90\n",
      "Message published successfully. Data: 04:59:15 , 85\n",
      "Message published successfully. Data: 04:59:16 , 65\n",
      "Message published successfully. Data: 04:59:17 , 71\n",
      "Message published successfully. Data: 04:59:18 , 15\n",
      "Message published successfully. Data: 04:59:19 , 53\n",
      "Message published successfully. Data: 04:59:20 , 18\n",
      "Message published successfully. Data: 04:59:21 , 80\n",
      "Message published successfully. Data: 04:59:22 , 52\n",
      "Message published successfully. Data: 04:59:23 , 93\n",
      "Message published successfully. Data: 04:59:24 , 0\n",
      "Message published successfully. Data: 04:59:25 , 50\n",
      "Message published successfully. Data: 04:59:26 , 34\n",
      "Message published successfully. Data: 04:59:27 , 23\n",
      "Message published successfully. Data: 04:59:28 , 70\n",
      "Message published successfully. Data: 04:59:29 , 2\n"
     ]
    },
    {
     "ename": "KeyboardInterrupt",
     "evalue": "",
     "output_type": "error",
     "traceback": [
      "\u001b[0;31m---------------------------------------------------------------------------\u001b[0m",
      "\u001b[0;31mKeyboardInterrupt\u001b[0m                         Traceback (most recent call last)",
      "\u001b[1;32mc:\\MonashUni\\Year4\\Semester-4\\FIT5202-BigDataProcessing\\Labs\\week09\\1. Kafka_Producer.ipynb Cell 2\u001b[0m line \u001b[0;36m4\n\u001b[1;32m     <a href='vscode-notebook-cell:/c%3A/MonashUni/Year4/Semester-4/FIT5202-BigDataProcessing/Labs/week09/1.%20Kafka_Producer.ipynb#W1sZmlsZQ%3D%3D?line=44'>45</a>\u001b[0m publish_message(producer, topic, \u001b[39m'\u001b[39m\u001b[39mparsed\u001b[39m\u001b[39m'\u001b[39m, data)\n\u001b[1;32m     <a href='vscode-notebook-cell:/c%3A/MonashUni/Year4/Semester-4/FIT5202-BigDataProcessing/Labs/week09/1.%20Kafka_Producer.ipynb#W1sZmlsZQ%3D%3D?line=45'>46</a>\u001b[0m \u001b[39m#print(data)|\u001b[39;00m\n\u001b[0;32m---> <a href='vscode-notebook-cell:/c%3A/MonashUni/Year4/Semester-4/FIT5202-BigDataProcessing/Labs/week09/1.%20Kafka_Producer.ipynb#W1sZmlsZQ%3D%3D?line=46'>47</a>\u001b[0m sleep(\u001b[39m1\u001b[39;49m)\n",
      "\u001b[0;31mKeyboardInterrupt\u001b[0m: "
     ]
    }
   ],
   "source": [
    "# import statements\n",
    "from time import sleep\n",
    "from json import dumps\n",
    "from kafka3 import KafkaProducer\n",
    "import random\n",
    "import datetime as dt\n",
    "\n",
    "#configuration\n",
    "hostip = \"118.139.91.214\" #change me\n",
    "\n",
    "topic = 'Session09-Topic1'\n",
    "\n",
    "\n",
    "def publish_message(producer_instance, topic_name, key, value):\n",
    "    try:\n",
    "        key_bytes = bytes(key, encoding='utf-8')\n",
    "        value_bytes = bytes(value, encoding='utf-8')\n",
    "        # publish the message to server\n",
    "        producer_instance.send(topic_name, key=key_bytes, value=value_bytes)\n",
    "        # remove data from cache memory\n",
    "        producer_instance.flush()\n",
    "        print(f'Message published successfully. Data: {data}')\n",
    "    except Exception as ex:\n",
    "        print('Exception in publishing message.')\n",
    "        print(str(ex))\n",
    "        \n",
    "def connect_kafka_producer():\n",
    "    _producer = None\n",
    "    try:\n",
    "        _producer = KafkaProducer(bootstrap_servers=[f'{hostip}:9092'], api_version=(0, 10))\n",
    "    except Exception as ex:\n",
    "        print('Exception while connecting Kafka.')\n",
    "        print(str(ex))\n",
    "    finally:\n",
    "        return _producer\n",
    "    \n",
    "if __name__ == '__main__':    \n",
    "    print('Publishing records..')\n",
    "    producer = connect_kafka_producer()\n",
    "    \n",
    "    while True:\n",
    "        # data needs to be STRING format when message is published\n",
    "        data = f'{dt.datetime.now().strftime(\"%X\")} , {random.randrange(0,100)}'\n",
    "        # message is published over to the server\n",
    "        publish_message(producer, topic, 'parsed', data)\n",
    "        #print(data)|\n",
    "        sleep(1)"
   ]
  },
  {
   "cell_type": "code",
   "execution_count": null,
   "metadata": {},
   "outputs": [],
   "source": []
  }
 ],
 "metadata": {
  "colab": {
   "name": "Week9_Kafka_Producer01.ipynb",
   "provenance": []
  },
  "kernelspec": {
   "display_name": "Python 3 (ipykernel)",
   "language": "python",
   "name": "python3"
  },
  "vscode": {
   "interpreter": {
    "hash": "b0fa6594d8f4cbf19f97940f81e996739fb7646882a419484c72d19e05852a7e"
   }
  }
 },
 "nbformat": 4,
 "nbformat_minor": 4
}
