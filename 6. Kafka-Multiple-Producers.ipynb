{
 "cells": [
  {
   "cell_type": "code",
   "execution_count": null,
   "metadata": {},
   "outputs": [],
   "source": [
    "# import statements\n",
    "from time import sleep\n",
    "from json import dumps\n",
    "from kafka3 import KafkaProducer\n",
    "import random\n",
    "import datetime as dt\n",
    "\n",
    "#configuration\n",
    "hostip = \"192.168.1.87\" #change me\n",
    "\n",
    "topic = 'Session09-Topic2'\n",
    "\n",
    " \n",
    "def publish_message(producer_instance, topic_name, data):\n",
    "    try:\n",
    "        producer_instance.send(topic_name, value=data)\n",
    "        print('Message published successfully. Data: ' + str(data))\n",
    "    except Exception as ex:\n",
    "        print('Exception in publishing message.')\n",
    "        print(str(ex))\n",
    "        \n",
    "def connect_kafka_producer():\n",
    "    _producer = None\n",
    "    try:\n",
    "        _producer = KafkaProducer(bootstrap_servers=[f'{hostip}:9092'],\n",
    "                                  value_serializer=lambda x: dumps(x).encode('ascii'),\n",
    "                                  api_version=(0, 10))\n",
    "    except Exception as ex:\n",
    "        print('Exception while connecting Kafka.')\n",
    "        print(str(ex))\n",
    "    finally:\n",
    "        return _producer\n",
    "    \n",
    "if __name__ == '__main__':\n",
    "    print('Publishing records..')\n",
    "    producer01 = connect_kafka_producer()\n",
    "    producer02 = connect_kafka_producer()\n",
    "    producer03 = connect_kafka_producer()\n",
    "    \n",
    "    for e in range(100):\n",
    "        datetime = str(dt.datetime.now().strftime(\"%X\"))[-5:]\n",
    "        data1 = {'datetime': datetime, 'producer05-1' : random.randrange(0,100)}\n",
    "        publish_message(producer01, topic, data1)\n",
    "        data2 = {'datetime': datetime, 'producer05-2' : random.randrange(0,100)}\n",
    "        publish_message(producer02, topic, data2)\n",
    "        data3 = {'datetime': datetime, 'producer05-3' : random.randrange(0,100)}\n",
    "        publish_message(producer03, topic, data3)\n",
    "        sleep(1)"
   ]
  },
  {
   "cell_type": "code",
   "execution_count": null,
   "metadata": {},
   "outputs": [],
   "source": []
  },
  {
   "cell_type": "code",
   "execution_count": null,
   "metadata": {},
   "outputs": [],
   "source": []
  }
 ],
 "metadata": {
  "kernelspec": {
   "display_name": "Python 3 (ipykernel)",
   "language": "python",
   "name": "python3"
  },
  "language_info": {
   "codemirror_mode": {
    "name": "ipython",
    "version": 3
   },
   "file_extension": ".py",
   "mimetype": "text/x-python",
   "name": "python",
   "nbconvert_exporter": "python",
   "pygments_lexer": "ipython3",
   "version": "3.8.15"
  },
  "vscode": {
   "interpreter": {
    "hash": "b0fa6594d8f4cbf19f97940f81e996739fb7646882a419484c72d19e05852a7e"
   }
  }
 },
 "nbformat": 4,
 "nbformat_minor": 4
}
