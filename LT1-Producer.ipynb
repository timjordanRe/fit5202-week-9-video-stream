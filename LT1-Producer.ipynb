{
 "cells": [
  {
   "cell_type": "markdown",
   "metadata": {},
   "source": [
    "<a class=\"anchor\" id=\"lab-task-1\"></a>\n",
    "<div style=\"background:rgba(0,109,174,0.2);padding:10px;border-radius:4px\"><strong style=\"color:#FF5555\">1. Lab Task: </strong> \n",
    "    <ol>\n",
    "        <li>Complete the <strong>Kafka Producer</strong> in the file <code>LT1-Producer.ipynb</code>. Here you are required to address the following conditions:\n",
    "    <ul>\n",
    "        <li>Read the data frome the csv file <code>clickstream.csv</code> continiously.</li>\n",
    "        <li>Add the current timestamp to the data being sent</li>\n",
    "        <li>Publish <strong>5-10</strong> number of rows randomly every <strong>5 seconds</strong> to a topic named:<strong>clickstream</strong>.</li>                                \n",
    "    </ul>        \n",
    "    </ol>\n",
    "</div>\n",
    "\n"
   ]
  },
  {
   "cell_type": "code",
   "execution_count": null,
   "metadata": {},
   "outputs": [],
   "source": [
    "# import statements\n",
    "from time import sleep\n",
    "from json import dumps\n",
    "from kafka3 import KafkaProducer\n",
    "import random\n",
    "import datetime as dt\n",
    "import csv\n",
    "\n",
    "#configurations\n",
    "hostip = \"192.168.1.87\" #change this to your IP address\n",
    "\n",
    "def read_csv(fileName):\n",
    "    '''Read the CSV file clickstream.csv'''\n",
    "    '''you can use csv.DictReader'''\n",
    "    list = []\n",
    "    with open(fileName, 'rt') as f:\n",
    "        reader = csv.DictReader(f)\n",
    "        for row in reader:\n",
    "            list.append(row)\n",
    "    return list\n",
    "\n",
    "def publish_message(producer_instance, topic_name, data):\n",
    "    try:\n",
    "        producer_instance.send(topic_name, data)\n",
    "        print('Message published successfully. Data: ' + str(data))\n",
    "    except Exception as ex:\n",
    "        print('Exception in publishing message.')\n",
    "        print(str(ex))\n",
    "        \n",
    "def connect_kafka_producer():\n",
    "    _producer = None\n",
    "    try:\n",
    "        _producer = KafkaProducer(bootstrap_servers=[f'{hostip}:9092'],\n",
    "                                  value_serializer=lambda x: dumps(x).encode('ascii'),\n",
    "                                  api_version=(0, 10))\n",
    "    except Exception as ex:\n",
    "        print('Exception while connecting Kafka.')\n",
    "        print(str(ex))\n",
    "    finally:\n",
    "        return _producer\n",
    "    \n",
    "if __name__ == '__main__':\n",
    "   \n",
    "    topic = 'clickstream'\n",
    "    cRows = read_csv('clickstream.csv')\n",
    "    \n",
    "    print('Publishing records..')\n",
    "    producer = connect_kafka_producer()\n",
    "    \n",
    "    #WRITE THE CODE HERE\n",
    "    #A while True loop to infinitely loop through records\n",
    "    #A random function to get random number of rows between 5-10 use random.randint(5,10)\n",
    "    #Create the data object to publish with the selected rows, also include the current timestamp as ts\n",
    "    #Sleep for 5 seconds    \n",
    "        "
   ]
  },
  {
   "cell_type": "code",
   "execution_count": null,
   "metadata": {},
   "outputs": [],
   "source": []
  }
 ],
 "metadata": {
  "kernelspec": {
   "display_name": "Python 3 (ipykernel)",
   "language": "python",
   "name": "python3"
  },
  "language_info": {
   "codemirror_mode": {
    "name": "ipython",
    "version": 3
   },
   "file_extension": ".py",
   "mimetype": "text/x-python",
   "name": "python",
   "nbconvert_exporter": "python",
   "pygments_lexer": "ipython3",
   "version": "3.10.6 (main, Nov 14 2022, 16:10:14) [GCC 11.3.0]"
  },
  "vscode": {
   "interpreter": {
    "hash": "916dbcbb3f70747c44a77c7bcd40155683ae19c65e1c03b4aa3499c5328201f1"
   }
  }
 },
 "nbformat": 4,
 "nbformat_minor": 4
}
